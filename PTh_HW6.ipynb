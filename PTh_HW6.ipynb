{
  "cells": [
    {
      "cell_type": "markdown",
      "metadata": {
        "id": "7diZl6Gt0NFm"
      },
      "source": [
        "## Задача 1\n",
        "\n",
        "_Известно, что генеральная совокупность распределена нормально со средним квадратическим отклонением, равным 16. Найти доверительный интервал для оценки математического ожидания a с надежностью 0.95, если выборочная средняя M = 80, а объем выборки n = 256._  \n",
        "\n",
        "\n",
        "$\\underline{X}\\pm Z_\\frac{\\alpha}{2}\\cdot\\frac{\\sigma}{\\sqrt{n}}$\n",
        "\n",
        "$Z_\\frac{\\alpha}{2}=1.96$\n",
        "\n",
        "$80\\pm 1.96\\cdot\\frac{16}{\\sqrt{256}} => [78.04;81.96]$\n",
        "\n",
        "т.о. доверительный интервал $[78.04;81.96]$"
      ]
    },
    {
      "cell_type": "markdown",
      "metadata": {
        "id": "KUQYfCCM0NFp"
      },
      "source": [
        "## Задача 2\n",
        "\n",
        "_В результате 10 независимых измерений некоторой величины X, выполненных с одинаковой точностью, получены опытные данные:_\n",
        "> 6.9, 6.1, 6.2, 6.8, 7.5, 6.3, 6.4, 6.9, 6.7, 6.1\n",
        ">\n",
        "_Предполагая, что результаты измерений подчинены нормальному закону  вероятностей, оценить истинное значение величины X при помощи доверительного интервала, покрывающего это значение с доверительной вероятностью 0,95._  \n",
        "\n",
        "$\\underline{X}\\pm t_\\frac{\\alpha}{2}\\cdot\\frac{\\sigma}{\\sqrt{n}}$"
      ]
    },
    {
      "cell_type": "code",
      "source": [
        "import numpy as np\n",
        "from scipy import stats"
      ],
      "metadata": {
        "id": "898DJ5U93jF1"
      },
      "execution_count": 1,
      "outputs": []
    },
    {
      "cell_type": "code",
      "execution_count": 2,
      "metadata": {
        "colab": {
          "base_uri": "https://localhost:8080/"
        },
        "id": "69kkjMO40NFq",
        "outputId": "855ac424-da23-405c-b366-daf7d811e99f"
      },
      "outputs": [
        {
          "output_type": "execute_result",
          "data": {
            "text/plain": [
              "(6.267515851415713, 6.912484148584288)"
            ]
          },
          "metadata": {},
          "execution_count": 2
        }
      ],
      "source": [
        "x = np.array([6.9, 6.1, 6.2, 6.8, 7.5, 6.3, 6.4, 6.9, 6.7, 6.1])\n",
        "M = x.mean()\n",
        "D = x.var(ddof=1)\n",
        "t = stats.t.ppf(0.975, 9)\n",
        "M - t * np.sqrt(D / 10), M + t * np.sqrt(D / 10)"
      ]
    },
    {
      "cell_type": "markdown",
      "metadata": {
        "id": "11qBe-K40NFt"
      },
      "source": [
        "т.о. доверительный интервал $[6.268; 6.912]$"
      ]
    },
    {
      "cell_type": "markdown",
      "metadata": {
        "id": "pJzqYbLi0NFu"
      },
      "source": [
        "## Задача 3\n",
        "\n",
        "_Рост дочерей 175, 167, 154, 174, 178, 148, 160, 167, 169, 170  \n",
        "Рост матерей  178, 165, 165, 173, 168, 155, 160, 164, 178, 175  \n",
        "Используя эти данные построить 95% доверительный интервал для разности среднего роста родителей и детей._\n"
      ]
    },
    {
      "cell_type": "markdown",
      "metadata": {
        "id": "QajnN1rG0NFu"
      },
      "source": [
        "$\\Delta\\pm t_\\frac{\\alpha}{2}\\cdot S_\\Delta$\n",
        "\n",
        "$\\Delta=\\underline{X_1}-\\underline{X_2}$\n",
        "\n",
        "$D_{общ}=\\frac{1}{2}(D_1 + D_2)$\n",
        "\n",
        "$S_\\Delta=\\sqrt{\\frac{D_{общ}}{n_1}+\\frac{D_{общ}}{n_2}}$"
      ]
    },
    {
      "cell_type": "code",
      "execution_count": 4,
      "metadata": {
        "colab": {
          "base_uri": "https://localhost:8080/"
        },
        "id": "SxyBmGT60NFv",
        "outputId": "80e86a97-e380-42c3-908d-0044c5552969"
      },
      "outputs": [
        {
          "output_type": "execute_result",
          "data": {
            "text/plain": [
              "(-10.068418034506857, 6.268418034506846)"
            ]
          },
          "metadata": {},
          "execution_count": 4
        }
      ],
      "source": [
        "a = np.array([175, 167, 154, 174, 178, 148, 160, 167, 169, 170])\n",
        "b = np.array([178, 165, 165, 173, 168, 155, 160, 164, 178, 175])\n",
        "\n",
        "delta = a.mean() - b.mean()\n",
        "D = (a.var(ddof=1) + b.var(ddof=1)) / 2\n",
        "Se = np.sqrt(D / len(a) + D / len(b))\n",
        "ns = (len(a) - 1) * 2\n",
        "t = stats.t.ppf(0.975, ns)\n",
        "delta - t * Se, delta + t * Se\n"
      ]
    },
    {
      "cell_type": "markdown",
      "metadata": {
        "id": "sI5QTFZV0NFw"
      },
      "source": [
        "т.о. доверительный интервал $[-10.068 ; 6.268]$"
      ]
    }
  ],
  "metadata": {
    "kernelspec": {
      "display_name": "Python 3",
      "language": "python",
      "name": "python3"
    },
    "language_info": {
      "codemirror_mode": {
        "name": "ipython",
        "version": 3
      },
      "file_extension": ".py",
      "mimetype": "text/x-python",
      "name": "python",
      "nbconvert_exporter": "python",
      "pygments_lexer": "ipython3",
      "version": "3.11.1"
    },
    "vscode": {
      "interpreter": {
        "hash": "867b719568835d2758971036323f4589e1a00f73e0a167b563d81825d1a5986e"
      }
    },
    "colab": {
      "provenance": []
    }
  },
  "nbformat": 4,
  "nbformat_minor": 0
}